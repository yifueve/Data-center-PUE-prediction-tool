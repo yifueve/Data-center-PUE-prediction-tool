{
 "cells": [
  {
   "cell_type": "code",
   "execution_count": 2,
   "metadata": {},
   "outputs": [
    {
     "name": "stdout",
     "output_type": "stream",
     "text": [
      "Intel MKL WARNING: Support of Intel(R) Streaming SIMD Extensions 4.2 (Intel(R) SSE4.2) enabled only processors has been deprecated. Intel oneAPI Math Kernel Library 2025.0 will require Intel(R) Advanced Vector Extensions (Intel(R) AVX) instructions.\n",
      "Intel MKL WARNING: Support of Intel(R) Streaming SIMD Extensions 4.2 (Intel(R) SSE4.2) enabled only processors has been deprecated. Intel oneAPI Math Kernel Library 2025.0 will require Intel(R) Advanced Vector Extensions (Intel(R) AVX) instructions.\n"
     ]
    }
   ],
   "source": [
    "# import functions from PUE_simulation_tool.ipynb\n",
    "import import_ipynb\n",
    "from PUE_simulation_tool import PUE_AE_Chiller\n",
    "from PUE_simulation_tool import PUE_WEC_Chiller\n",
    "from PUE_simulation_tool import PUE_WES_Chiller"
   ]
  },
  {
   "cell_type": "markdown",
   "metadata": {},
   "source": [
    "# PUE simulation example: Hyperscale data centers with airside economizer + adiabatic cooling"
   ]
  },
  {
   "cell_type": "code",
   "execution_count": 9,
   "metadata": {},
   "outputs": [
    {
     "data": {
      "text/plain": [
       "26"
      ]
     },
     "execution_count": 9,
     "metadata": {},
     "output_type": "execute_result"
    }
   ],
   "source": [
    "### define operational parameters\n",
    "### The recommended uncertain range of the parameters are summarized in Table A.1. Model input values and ranges in the Energy paper: https://doi.org/10.1016/j.energy.2020.117556\n",
    "\n",
    "# Here is one possible combination of operational parameters\n",
    "parameters_AE = [ 9.80302734e-01,\n",
    "        5.60546875e-03,  1.81445313e-03,  1.03671875e+01,  3.41953125e+01,\n",
    "       -1.04970703e+01,  1.58320312e+01,  9.01953125e-02,  6.76464844e-01,\n",
    "        1.47840712e+01,  6.91894531e+00,  4.28710938e+00,  6.85058594e+02,\n",
    "        8.29931641e-01,  2.03417969e+02,  8.97802734e-01,  7.31582031e+06,\n",
    "        7.04492187e-01,  1.46519937e+05,  7.90039062e-01,  2.12001820e+05,\n",
    "        7.16601562e-01,  6.33818359e+00,  2.24023438e-01,  1.05488281e-01,\n",
    "        1.11914062e+00]\n",
    "len(parameters_AE)"
   ]
  },
  {
   "cell_type": "code",
   "execution_count": 10,
   "metadata": {
    "scrolled": true
   },
   "outputs": [
    {
     "name": "stdout",
     "output_type": "stream",
     "text": [
      "1.0746922969797756\n"
     ]
    }
   ],
   "source": [
    "# PUE of hyperscale data center with the defined parameters_AE @ dry_bulb temperature of 20 C, relative humidity of 40%, atmospheric pressure of 101325 Pa，IT power of 1 kW. \n",
    "PUE = PUE_AE_Chiller(parameters_AE,20,40,101325,1)\n",
    "print(PUE)"
   ]
  },
  {
   "cell_type": "markdown",
   "metadata": {},
   "source": [
    "# PUE simulation example: Hyperscale data centers utilizing evaporative cooling capability of cooling towers"
   ]
  },
  {
   "cell_type": "code",
   "execution_count": 11,
   "metadata": {},
   "outputs": [
    {
     "data": {
      "text/plain": [
       "26"
      ]
     },
     "execution_count": 11,
     "metadata": {},
     "output_type": "execute_result"
    }
   ],
   "source": [
    "### define operational parameters\n",
    "### The recommended uncertain range of the parameters are summarized in Table A.1. Model input values and ranges in the Energy paper: https://doi.org/10.1016/j.energy.2020.117556\n",
    "\n",
    "# Here is one possible combination of operational parameters\n",
    "parameters_WEC = [ 9.80302734e-01,\n",
    "       5.60546875e-03, 1.81445313e-03, 2.73671875e+01, 1.88856337e+01,\n",
    "       7.50488281e+00, 4.13867188e+00, 4.16992188e+02, 7.13720703e-01,\n",
    "       1.48339844e+02, 7.45947266e-01, 6.50097656e+06, 6.74023438e-01,\n",
    "       1.56284191e+05, 6.68945312e-01, 1.71884552e+05, 7.45117188e-01,\n",
    "       2.10534680e+05, 7.09960938e-01, 6.50576172e+00, 2.29404297e+00,\n",
    "       8.16601563e-01, 9.86289063e-01, 2.24023438e-01, 1.05488281e-01,\n",
    "       1.11914062e+00]\n",
    "len(parameters_WEC)"
   ]
  },
  {
   "cell_type": "code",
   "execution_count": 12,
   "metadata": {},
   "outputs": [
    {
     "name": "stdout",
     "output_type": "stream",
     "text": [
      "1.0887168184890426\n"
     ]
    }
   ],
   "source": [
    "# PUE of hyperscale data center with the defined parameters_WEC @ dry_bulb temperature of 20, relative humidity of 40%, atmospheric pressure of 101325，IT power of 1 kW. \n",
    "PUE = PUE_WEC_Chiller(parameters_WEC,20,40,101325,1)\n",
    "print(PUE)"
   ]
  },
  {
   "cell_type": "markdown",
   "metadata": {},
   "source": [
    "# PUE simulation example: Hyperscale data centers with seawater cooling"
   ]
  },
  {
   "cell_type": "code",
   "execution_count": 13,
   "metadata": {},
   "outputs": [
    {
     "data": {
      "text/plain": [
       "22"
      ]
     },
     "execution_count": 13,
     "metadata": {},
     "output_type": "execute_result"
    }
   ],
   "source": [
    "### define operational parameters\n",
    "### The recommended uncertain range of the parameters are summarized in Table A.1. Model input values and ranges in the Energy paper: https://doi.org/10.1016/j.energy.2020.117556\n",
    "\n",
    "# Here is one possible combination of operational parameters\n",
    "parameters_WES = [9.75556641e-01, 1.35351562e-02,\n",
    "       5.60546875e-04, 3.42578125e+01, 1.41438802e+01, 9.49707031e+00,\n",
    "       7.50488281e+00, 4.13867188e+02, 6.71240234e-01, 6.65683594e+06,\n",
    "       6.32226562e-01, 1.36980148e+05, 6.28710937e-01, 1.36194518e+05,\n",
    "       7.43945313e-01, 6.99398438e+05, 7.98242188e-01, 2.49814453e+00,\n",
    "       8.04492187e-01, 9.71992187e-01, 7.70117188e-01, 8.80859375e-03]\n",
    "len(parameters_WES)"
   ]
  },
  {
   "cell_type": "code",
   "execution_count": 14,
   "metadata": {},
   "outputs": [
    {
     "name": "stdout",
     "output_type": "stream",
     "text": [
      "1.1140761465494835\n"
     ]
    }
   ],
   "source": [
    "# PUE of hyperscale data center with the defined parameters_WES @ seawater temperature of 20 C, atmospheric pressure of 101325 Pa，IT power of 1 kW. \n",
    "PUE = PUE_WES_Chiller(parameters_WES,20,101325,1)\n",
    "print(PUE)"
   ]
  }
 ],
 "metadata": {
  "kernelspec": {
   "display_name": "rio_tinto",
   "language": "python",
   "name": "python3"
  },
  "language_info": {
   "codemirror_mode": {
    "name": "ipython",
    "version": 3
   },
   "file_extension": ".py",
   "mimetype": "text/x-python",
   "name": "python",
   "nbconvert_exporter": "python",
   "pygments_lexer": "ipython3",
   "version": "3.8.18"
  }
 },
 "nbformat": 4,
 "nbformat_minor": 2
}
